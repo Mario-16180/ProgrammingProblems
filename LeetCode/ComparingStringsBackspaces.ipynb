{
 "cells": [
  {
   "cell_type": "code",
   "execution_count": 35,
   "metadata": {},
   "outputs": [],
   "source": [
    "s = \"a##c\"\n",
    "t = \"#a#c\""
   ]
  },
  {
   "cell_type": "code",
   "execution_count": 36,
   "metadata": {},
   "outputs": [
    {
     "data": {
      "text/plain": [
       "False"
      ]
     },
     "execution_count": 36,
     "metadata": {},
     "output_type": "execute_result"
    }
   ],
   "source": [
    "i = 0  \n",
    "ls = list(s)\n",
    "lt = list(t)\n",
    "while i < len(ls):\n",
    "    if i == 0:\n",
    "        if ls[i] == \"#\":\n",
    "            ls.pop(i)\n",
    "        else:\n",
    "            i += 1\n",
    "    else:\n",
    "        if ls[i] == \"#\":\n",
    "            ls.pop(i)\n",
    "            ls.pop(i-1)\n",
    "            i -= 1\n",
    "        else:\n",
    "            i += 1\n",
    "i = 0\n",
    "while i < len(lt):\n",
    "    if i == 0:\n",
    "        if lt[i] == \"#\":\n",
    "            lt.pop(i)\n",
    "        else:\n",
    "            i += 1\n",
    "    else:\n",
    "        if lt[i] == \"#\":\n",
    "            lt.pop(i)\n",
    "            lt.pop(i-1)\n",
    "            i -= 1\n",
    "        else:\n",
    "            i += 1\n",
    "s = \"\".join([c for c in ls])\n",
    "t = \"\".join([c for c in lt])\n",
    "s == t"
   ]
  },
  {
   "cell_type": "code",
   "execution_count": 33,
   "metadata": {},
   "outputs": [
    {
     "name": "stdout",
     "output_type": "stream",
     "text": [
      "#c c\n"
     ]
    }
   ],
   "source": [
    "print(t, s)"
   ]
  },
  {
   "cell_type": "code",
   "execution_count": null,
   "metadata": {},
   "outputs": [
    {
     "data": {
      "text/plain": [
       "'asb\\x08a'"
      ]
     },
     "execution_count": 58,
     "metadata": {},
     "output_type": "execute_result"
    }
   ],
   "source": [
    "nt.format(r)"
   ]
  },
  {
   "cell_type": "code",
   "execution_count": null,
   "metadata": {},
   "outputs": [
    {
     "data": {
      "text/plain": [
       "False"
      ]
     },
     "execution_count": 17,
     "metadata": {},
     "output_type": "execute_result"
    }
   ],
   "source": [
    "s.__eq__(t)"
   ]
  },
  {
   "cell_type": "code",
   "execution_count": null,
   "metadata": {},
   "outputs": [
    {
     "name": "stdout",
     "output_type": "stream",
     "text": [
      "asa asa\n"
     ]
    }
   ],
   "source": [
    "print(nss, ntt)"
   ]
  },
  {
   "cell_type": "code",
   "execution_count": null,
   "metadata": {},
   "outputs": [],
   "source": [
    "class Solution:\n",
    "    def backspaceCompare(self, s: str, t: str) -> bool:\n",
    "        return repr(s) == repr(t)"
   ]
  },
  {
   "cell_type": "code",
   "execution_count": null,
   "metadata": {},
   "outputs": [],
   "source": [
    "sol = Solution(s,)"
   ]
  }
 ],
 "metadata": {
  "interpreter": {
   "hash": "fee9d31370ce6b34760bd890efd3ab9f9e66b04e5e1186423391dabec450a8c1"
  },
  "kernelspec": {
   "display_name": "Python 3.9.12 ('tensorflow')",
   "language": "python",
   "name": "python3"
  },
  "language_info": {
   "codemirror_mode": {
    "name": "ipython",
    "version": 3
   },
   "file_extension": ".py",
   "mimetype": "text/x-python",
   "name": "python",
   "nbconvert_exporter": "python",
   "pygments_lexer": "ipython3",
   "version": "3.9.12"
  },
  "orig_nbformat": 4
 },
 "nbformat": 4,
 "nbformat_minor": 2
}

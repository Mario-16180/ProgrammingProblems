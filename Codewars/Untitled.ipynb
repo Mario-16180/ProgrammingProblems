{
 "cells": [
  {
   "cell_type": "code",
   "execution_count": 10,
   "id": "1ad5a089",
   "metadata": {},
   "outputs": [],
   "source": [
    "prueba = {\"o\":0,\"x\":0,\"m\":0}"
   ]
  },
  {
   "cell_type": "code",
   "execution_count": 16,
   "id": "4511d6bc",
   "metadata": {},
   "outputs": [],
   "source": [
    "k = prueba.keys()"
   ]
  },
  {
   "cell_type": "code",
   "execution_count": 19,
   "id": "ddf86413",
   "metadata": {},
   "outputs": [
    {
     "data": {
      "text/plain": [
       "True"
      ]
     },
     "execution_count": 19,
     "metadata": {},
     "output_type": "execute_result"
    }
   ],
   "source": [
    "\"o\" in k"
   ]
  },
  {
   "cell_type": "code",
   "execution_count": null,
   "id": "2f2ee3b4",
   "metadata": {},
   "outputs": [],
   "source": []
  }
 ],
 "metadata": {
  "kernelspec": {
   "display_name": "Python 3 (ipykernel)",
   "language": "python",
   "name": "python3"
  },
  "language_info": {
   "codemirror_mode": {
    "name": "ipython",
    "version": 3
   },
   "file_extension": ".py",
   "mimetype": "text/x-python",
   "name": "python",
   "nbconvert_exporter": "python",
   "pygments_lexer": "ipython3",
   "version": "3.10.0"
  }
 },
 "nbformat": 4,
 "nbformat_minor": 5
}
